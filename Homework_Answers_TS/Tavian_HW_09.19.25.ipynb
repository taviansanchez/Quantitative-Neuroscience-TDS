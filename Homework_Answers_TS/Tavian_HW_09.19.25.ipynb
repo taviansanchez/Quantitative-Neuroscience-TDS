{
 "cells": [
  {
   "cell_type": "markdown",
   "id": "bd5d7702-a81f-412d-bd7c-0dc2edc4b2ff",
   "metadata": {},
   "source": [
    "Simple Non-Parametric Tests -- Tutorial & Exercises"
   ]
  },
  {
   "cell_type": "code",
   "execution_count": 1,
   "id": "b9f690d0-beb8-4d07-9e67-76e3569d53d6",
   "metadata": {},
   "outputs": [],
   "source": [
    "import numpy as np\n",
    "import scipy.stats as st\n",
    "from statsmodels.stats.descriptivestats import sign_test"
   ]
  },
  {
   "cell_type": "markdown",
   "id": "26dcfac7-711c-4d37-bc22-a4387e060260",
   "metadata": {},
   "source": [
    "Sign Test: One Sample, Skewed Distribution"
   ]
  },
  {
   "cell_type": "code",
   "execution_count": 2,
   "id": "16f7d836-c748-4299-8876-d973639955e7",
   "metadata": {},
   "outputs": [
    {
     "name": "stdout",
     "output_type": "stream",
     "text": [
      "p=0.55\n"
     ]
    }
   ],
   "source": [
    "# Make some paired data\n",
    "a = [3,10,4,20,4,7,50,3,5,5,7]\n",
    "b = [5,9,10,15,6,5,43,6,2,1,0]\n",
    "diff = [bi-ai for ai, bi in zip(a,b)]\n",
    "_, p = sign_test(diff)\n",
    "print(f'p={p:.2f}')"
   ]
  },
  {
   "cell_type": "markdown",
   "id": "cea73bcf-a900-4315-a410-f4882866809d",
   "metadata": {},
   "source": [
    "Wilcoxon signed-rank test: one sample or paired samples, symmetric distribution(s)"
   ]
  },
  {
   "cell_type": "code",
   "execution_count": 3,
   "id": "b4540d02-9881-4b02-9459-ea9c7cafaa39",
   "metadata": {},
   "outputs": [
    {
     "name": "stdout",
     "output_type": "stream",
     "text": [
      "p = 0.16\n"
     ]
    }
   ],
   "source": [
    "\n",
    "samples = np.random.randint(0, high=51, size=200)\n",
    "null_hypothesis_median = 24\n",
    "\n",
    "# Unlike in Matlab, the scipy implementation does not handle the case of comparing\n",
    "#  to a median other than zero, so we make this a (fake) paired two-sample test\n",
    "#  by subtracting the median from each value\n",
    "_, p = st.wilcoxon(samples-null_hypothesis_median)\n",
    "print(f'p = {p:.2f}')"
   ]
  },
  {
   "cell_type": "markdown",
   "id": "ef21380e-1d2b-4d3a-9769-be139ac7309b",
   "metadata": {},
   "source": [
    "Mann-Whitney: unpaired, two sample"
   ]
  },
  {
   "cell_type": "code",
   "execution_count": 4,
   "id": "d54e089a-5c23-41c9-ba96-5eba6aabfcf9",
   "metadata": {},
   "outputs": [
    {
     "name": "stdout",
     "output_type": "stream",
     "text": [
      "p = 0.00\n"
     ]
    }
   ],
   "source": [
    "\n",
    "X = np.random.randint(0, high=51, size=200)\n",
    "Y = 2 + np.random.randint(0, high=51, size=200)\n",
    "_, p = st.mannwhitneyu(X,Y)\n",
    "print(f'p = {p:.2f}')"
   ]
  },
  {
   "cell_type": "markdown",
   "id": "92c1f0d8-33db-464e-b954-2b3bd1b05ab7",
   "metadata": {},
   "source": [
    "Exercise 1"
   ]
  },
  {
   "cell_type": "markdown",
   "id": "3c202bf6-6d7f-48d8-a249-aa72d2829540",
   "metadata": {},
   "source": [
    "I would chose a Mann-Whitney because I have two groups with a small sample size that will be non-normall given the times will be positively skewed and I would be most interested in comparing the means"
   ]
  },
  {
   "cell_type": "markdown",
   "id": "708c8018-700d-4feb-a7b8-d1b578a48a76",
   "metadata": {},
   "source": [
    "Exercise 2"
   ]
  },
  {
   "cell_type": "markdown",
   "id": "5875ba5c-19ea-43c9-8d4e-7834b9508bb6",
   "metadata": {},
   "source": [
    "I would do a paired t-test as my groups are dependent, measuring from the same people before and after the new vaccine, so two measures from one group. However, for a non-parametric test i would lean towards the wilcoxon signed rank test"
   ]
  },
  {
   "cell_type": "markdown",
   "id": "aae6a308-4b41-473e-9074-d28fc63d05c8",
   "metadata": {},
   "source": [
    "Exercise 3"
   ]
  },
  {
   "cell_type": "code",
   "execution_count": null,
   "id": "6c6b0f60-9922-4061-8d17-7762afd01afe",
   "metadata": {},
   "outputs": [],
   "source": [
    "Paired samples t test again here as co"
   ]
  }
 ],
 "metadata": {
  "kernelspec": {
   "display_name": "Python 3 (ipykernel)",
   "language": "python",
   "name": "python3"
  },
  "language_info": {
   "codemirror_mode": {
    "name": "ipython",
    "version": 3
   },
   "file_extension": ".py",
   "mimetype": "text/x-python",
   "name": "python",
   "nbconvert_exporter": "python",
   "pygments_lexer": "ipython3",
   "version": "3.13.6"
  }
 },
 "nbformat": 4,
 "nbformat_minor": 5
}
