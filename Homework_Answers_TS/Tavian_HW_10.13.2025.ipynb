{
 "cells": [
  {
   "cell_type": "markdown",
   "id": "a1121671-e6e5-4871-80e9-742c27a36ddc",
   "metadata": {},
   "source": [
    "LATER Fitting Exercise"
   ]
  },
  {
   "cell_type": "code",
   "execution_count": 2,
   "id": "820cba7a-a212-472c-8bcb-1603fb359bb2",
   "metadata": {},
   "outputs": [
    {
     "name": "stdout",
     "output_type": "stream",
     "text": [
      "/Users/taviansanchez/Desktop/QNC/Quantitative-Neuroscience-TDS/Homework_Answers_TS\n"
     ]
    }
   ],
   "source": [
    "import os\n",
    "print(os.getcwd())"
   ]
  },
  {
   "cell_type": "code",
   "execution_count": 4,
   "id": "8bc94fd4-42b7-4f9d-98f9-c08feb24f740",
   "metadata": {},
   "outputs": [
    {
     "name": "stdout",
     "output_type": "stream",
     "text": [
      "['numdirSum', 'tRxnSum', 'percorrSum', 'decisionSum', 'syncSum', 'labelSum']\n"
     ]
    }
   ],
   "source": [
    "import numpy as np\n",
    "\n",
    "# Load the converted data\n",
    "data = np.load(\"JT_RT_converted.npz\")\n",
    "\n",
    "# See what variables are available\n",
    "print(data.files)\n",
    "\n",
    "# Access individual arrays\n",
    "numdirSum = data[\"numdirSum\"]\n",
    "tRxnSum = data[\"tRxnSum\"]\n",
    "percorrSum = data[\"percorrSum\"]\n",
    "decisionSum = data[\"decisionSum\"]\n",
    "syncSum = data[\"syncSum\"]\n",
    "labelSum = data[\"labelSum\"]"
   ]
  },
  {
   "cell_type": "markdown",
   "id": "a68535e7-dcf0-4a9b-9bb5-295dc93cc397",
   "metadata": {},
   "source": [
    "Step 1: Loading & Preparing the Data"
   ]
  },
  {
   "cell_type": "code",
   "execution_count": 5,
   "id": "494dea96-8d02-4119-b694-ddc46805ff0c",
   "metadata": {},
   "outputs": [
    {
     "name": "stdout",
     "output_type": "stream",
     "text": [
      "Loaded 3900 valid reaction times.\n"
     ]
    }
   ],
   "source": [
    "# Exercise 1: Get the data\n",
    "import numpy as np\n",
    "\n",
    "# Load your converted dataset\n",
    "data = np.load(\"JT_RT_converted.npz\")\n",
    "\n",
    "# Example: assume tRxnSum contains reaction times (RTs) in seconds or ms\n",
    "# Adjust variable name as needed depending on your dataset contents\n",
    "RTs = data[\"tRxnSum\"].flatten()  # flatten in case it's stored as a 2D array\n",
    "\n",
    "# Optional: basic filtering (remove NaN or non-positive RTs)\n",
    "RTs = RTs[np.isfinite(RTs)]\n",
    "RTs = RTs[RTs > 0]\n",
    "\n",
    "print(f\"Loaded {len(RTs)} valid reaction times.\")"
   ]
  },
  {
   "cell_type": "markdown",
   "id": "a3523ceb-fa6c-4420-82b6-0ea1f85db0e1",
   "metadata": {},
   "source": [
    "Step 2: Defining the Objective Function where reciprocal reaction times (1/RT) are assumed to follow a normal distribution with mean muR and standard deviation deltaS.\n",
    "The log-likelihood for n data points is therefore the sum of the log of the normal PDF values."
   ]
  },
  {
   "cell_type": "code",
   "execution_count": 6,
   "id": "abdff384-e948-4736-ac82-c641da568854",
   "metadata": {},
   "outputs": [],
   "source": [
    "# Exercise 2: Define the objective function (Negative Log-Likelihood)\n",
    "\n",
    "from scipy.stats import norm\n",
    "import numpy as np\n",
    "\n",
    "def later_err_fcn(fits, RTs):\n",
    "    \"\"\"\n",
    "    Objective function: negative log-likelihood for the LATER model.\n",
    "\n",
    "    Parameters:\n",
    "    - fits: [muR, deltaS]\n",
    "    - RTs: array of reaction times (seconds or ms)\n",
    "\n",
    "    Returns:\n",
    "    - nllk: negative log-likelihood\n",
    "    \"\"\"\n",
    "    muR, deltaS = fits\n",
    "    # Convert RTs to reciprocal values\n",
    "    reci_RTs = 1.0 / RTs\n",
    "    # Compute the log-likelihood under the normal model\n",
    "    log_likelihoods = norm.logpdf(reci_RTs, loc=muR, scale=deltaS)\n",
    "    # Negative sum of log-likelihoods\n",
    "    nllk = -np.sum(log_likelihoods)\n",
    "    return nllk"
   ]
  },
  {
   "cell_type": "markdown",
   "id": "dfa846e3-e850-4749-9a83-e31e785d4091",
   "metadata": {},
   "source": [
    "Step 3: Defining initial conditions & parameter bounds, with initial guesses for [muR, deltaS].\n",
    "A good heuristic is to use the mean and std of the reciprocal RTs as starting points."
   ]
  },
  {
   "cell_type": "code",
   "execution_count": 7,
   "id": "3b66a2d2-30e7-4fd5-a07b-5deb554aeb7b",
   "metadata": {},
   "outputs": [
    {
     "name": "stdout",
     "output_type": "stream",
     "text": [
      "Initial guess: muR=2.7377, deltaS=2.0398\n"
     ]
    }
   ],
   "source": [
    "# Exercise 3: Define bounds and initial values\n",
    "\n",
    "lower_bounds = [0.001, 0.001]\n",
    "upper_bounds = [1000, 1000]\n",
    "\n",
    "# Compute empirical mean and std of reciprocal RTs for initialization\n",
    "recip_RTs = 1.0 / RTs\n",
    "initial_values = [np.mean(recip_RTs), np.std(recip_RTs)]\n",
    "\n",
    "print(f\"Initial guess: muR={initial_values[0]:.4f}, deltaS={initial_values[1]:.4f}\")"
   ]
  },
  {
   "cell_type": "markdown",
   "id": "7c11d3f3-c5e1-4053-ae50-cadfc527b45a",
   "metadata": {},
   "source": [
    "Step 4: Running the fits (optimizing) from python scipy.optimize.minimize and basinhopping to approximate a global search minimizing the objective function in place of the MatLab functions of fmincon with GlobalSearch as I do not have MatLab"
   ]
  },
  {
   "cell_type": "code",
   "execution_count": 8,
   "id": "936584f1-3d4f-4c75-9280-ae38449a1c21",
   "metadata": {},
   "outputs": [
    {
     "name": "stdout",
     "output_type": "stream",
     "text": [
      "Best fits: muR=2.7377, deltaS=2.0398\n",
      "Negative log-likelihood: 8313.8989\n"
     ]
    }
   ],
   "source": [
    "# Exercise 4: Run the optimization\n",
    "from scipy.optimize import minimize, basinhopping\n",
    "\n",
    "# Define bounds as tuples\n",
    "bounds = [(lower_bounds[0], upper_bounds[0]), (lower_bounds[1], upper_bounds[1])]\n",
    "\n",
    "# Local optimization (like fmincon)\n",
    "def local_minimize(x0):\n",
    "    return minimize(later_err_fcn, x0, args=(RTs,), bounds=bounds, method=\"L-BFGS-B\")\n",
    "\n",
    "# Global search using basinhopping\n",
    "minimizer_kwargs = {\"method\": \"L-BFGS-B\", \"args\": (RTs,), \"bounds\": bounds}\n",
    "global_result = basinhopping(later_err_fcn, initial_values, minimizer_kwargs=minimizer_kwargs, niter=100)\n",
    "\n",
    "best_fits = global_result.x\n",
    "nllk = global_result.fun\n",
    "\n",
    "print(f\"Best fits: muR={best_fits[0]:.4f}, deltaS={best_fits[1]:.4f}\")\n",
    "print(f\"Negative log-likelihood: {nllk:.4f}\")"
   ]
  },
  {
   "cell_type": "markdown",
   "id": "c9b111ae-8c0a-4600-9bac-ce2939c64556",
   "metadata": {},
   "source": [
    "Step 5: Evaulating the model’s fit by comparing the predicted distribution (of reciprocal RTs) to the empirical one."
   ]
  },
  {
   "cell_type": "code",
   "execution_count": 9,
   "id": "f22db316-33c4-48cb-9c24-6f980adb9d43",
   "metadata": {},
   "outputs": [
    {
     "data": {
      "image/png": "[encoded data removed]",
      "text/plain": [
       "<Figure size 800x500 with 1 Axes>"
      ]
     },
     "metadata": {},
     "output_type": "display_data"
    }
   ],
   "source": [
    "# Exercise 5: Evaluate and visualize the fits\n",
    "import matplotlib.pyplot as plt\n",
    "\n",
    "muR, deltaS = best_fits\n",
    "\n",
    "recip_RTs = 1.0 / RTs\n",
    "x = np.linspace(min(recip_RTs), max(recip_RTs), 200)\n",
    "pdf_model = norm.pdf(x, loc=muR, scale=deltaS)\n",
    "\n",
    "plt.figure(figsize=(8,5))\n",
    "plt.hist(recip_RTs, bins=40, density=True, alpha=0.5, label=\"Empirical reciprocal RTs\")\n",
    "plt.plot(x, pdf_model, 'r-', lw=2, label=\"LATER model fit\")\n",
    "plt.xlabel(\"Reciprocal Reaction Time (1/s)\")\n",
    "plt.ylabel(\"Probability Density\")\n",
    "plt.title(\"LATER Model Fit Evaluation\")\n",
    "plt.legend()\n",
    "plt.show()"
   ]
  },
  {
   "cell_type": "markdown",
   "id": "74a7f75a-b257-4a92-bf7a-adadc6a4a91e",
   "metadata": {},
   "source": [
    "Evaluating the fit of the model: \n",
    "The overall fit of the curve generally resembles the data, but does a poor job of modeling the maximum Probability Density seen in the empirical data set. Further, with ChatGPT, the below serve as objective measures of the overal fit."
   ]
  },
  {
   "cell_type": "code",
   "execution_count": 10,
   "id": "4f2bb692-d89f-408d-97ea-83abe2908236",
   "metadata": {},
   "outputs": [
    {
     "name": "stdout",
     "output_type": "stream",
     "text": [
      "Final negative log-likelihood: 8313.898895314655\n"
     ]
    }
   ],
   "source": [
    "print(\"Final negative log-likelihood:\", nllk)"
   ]
  },
  {
   "cell_type": "markdown",
   "id": "255c7a9c-4a52-4298-97a6-a3fcb88fa52a",
   "metadata": {},
   "source": [
    "This value is reasonably good evaluation of the fit, given there were a total of 3900 valid reaction times gives a NLL of ~1.66 per trial in the empirical data set. And this can be modeled with a random data set below from help with ChatGPT."
   ]
  },
  {
   "cell_type": "markdown",
   "id": "fd8c4a5a-11e3-45eb-bf4d-93b2c9caec40",
   "metadata": {},
   "source": [
    "Comparing to a simple random model"
   ]
  },
  {
   "cell_type": "code",
   "execution_count": 12,
   "id": "a4967601-9373-48a3-889d-8546467eb367",
   "metadata": {},
   "outputs": [
    {
     "name": "stdout",
     "output_type": "stream",
     "text": [
      "Initial NLL: 8313.898895314655\n",
      "Fitted NLL: 8313.898895314655\n"
     ]
    }
   ],
   "source": [
    "initial_nll = later_err_fcn(initial_values, RTs)\n",
    "print(\"Initial NLL:\", initial_nll)\n",
    "print(\"Fitted NLL:\", nllk)"
   ]
  },
  {
   "cell_type": "markdown",
   "id": "f56a1c21-82aa-402e-bf1a-b11fcf387ccc",
   "metadata": {},
   "source": [
    "Normalizing by sample:"
   ]
  },
  {
   "cell_type": "code",
   "execution_count": 14,
   "id": "c68acb67-e595-494b-90ec-8aad1c6d2559",
   "metadata": {},
   "outputs": [
    {
     "name": "stdout",
     "output_type": "stream",
     "text": [
      "Average NLL per trial: 2.131768947516578\n"
     ]
    }
   ],
   "source": [
    "n = len(RTs)\n",
    "print(\"Average NLL per trial:\", nllk / n)"
   ]
  },
  {
   "cell_type": "markdown",
   "id": "7cc59864-0757-4788-ba7d-08d8b2769e34",
   "metadata": {},
   "source": [
    "Checking our Parameters:"
   ]
  },
  {
   "cell_type": "code",
   "execution_count": 11,
   "id": "9eb94bd7-26c3-4e98-a79d-9719d6129cc1",
   "metadata": {},
   "outputs": [
    {
     "name": "stdout",
     "output_type": "stream",
     "text": [
      "Empirical mean (1/RT): 2.737738755205085\n",
      "Empirical std (1/RT): 2.039756451709128\n",
      "Fitted muR, deltaS: [2.73773876 2.03975645]\n"
     ]
    }
   ],
   "source": [
    "print(\"Empirical mean (1/RT):\", np.mean(1/RTs))\n",
    "print(\"Empirical std (1/RT):\", np.std(1/RTs))\n",
    "print(\"Fitted muR, deltaS:\", best_fits)"
   ]
  },
  {
   "cell_type": "markdown",
   "id": "c75e9bf2-7534-4f29-890b-567eb7eb0162",
   "metadata": {},
   "source": [
    "Comparing Visually with a Reciprobit Plot with help from ChatGPT to evaluate if the reciprobit plot looks linear? and does the model PDF overlap the histogram of your reciprocal RTs?"
   ]
  },
  {
   "cell_type": "code",
   "execution_count": 15,
   "id": "90feb20a-a4f4-49b1-8284-a6d74837e103",
   "metadata": {},
   "outputs": [
    {
     "data": {
      "image/png": "[encoded data removed]",
      "text/plain": [
       "<Figure size 600x500 with 1 Axes>"
      ]
     },
     "metadata": {},
     "output_type": "display_data"
    }
   ],
   "source": [
    "import matplotlib.pyplot as plt\n",
    "from scipy.stats import norm\n",
    "\n",
    "# Sort RTs and compute empirical cumulative probabilities\n",
    "reci_RTs_sorted = np.sort(1 / RTs)\n",
    "p = np.linspace(1/(len(RTs)+1), len(RTs)/(len(RTs)+1), len(RTs))\n",
    "\n",
    "# Convert probabilities to probit scale (z-scores)\n",
    "probits = norm.ppf(p)\n",
    "\n",
    "plt.figure(figsize=(6,5))\n",
    "plt.plot(reci_RTs_sorted, probits, 'o', label='Data')\n",
    "\n",
    "# Plot model prediction line (muR, deltaS)\n",
    "x_model = np.linspace(min(reci_RTs_sorted), max(reci_RTs_sorted), 200)\n",
    "probit_model = (x_model - best_fits[0]) / best_fits[1]\n",
    "plt.plot(x_model, probit_model, 'r-', label='LATER model fit')\n",
    "\n",
    "plt.xlabel('Reciprocal RT (1/s)')\n",
    "plt.ylabel('Probit(p)')\n",
    "plt.title('Reciprobit Plot')\n",
    "plt.legend()\n",
    "plt.show()"
   ]
  }
 ],
 "metadata": {
  "kernelspec": {
   "display_name": "Python 3 (ipykernel)",
   "language": "python",
   "name": "python3"
  },
  "language_info": {
   "codemirror_mode": {
    "name": "ipython",
    "version": 3
   },
   "file_extension": ".py",
   "mimetype": "text/x-python",
   "name": "python",
   "nbconvert_exporter": "python",
   "pygments_lexer": "ipython3",
   "version": "3.13.6"
  }
 },
 "nbformat": 4,
 "nbformat_minor": 5
}
