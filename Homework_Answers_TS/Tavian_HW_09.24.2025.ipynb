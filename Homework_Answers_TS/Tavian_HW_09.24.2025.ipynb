{
 "cells": [
  {
   "cell_type": "markdown",
   "id": "2ab380c6-a45f-44a5-94e8-c204f18444cb",
   "metadata": {},
   "source": [
    "Parametric Correlation Coefficient Exercises"
   ]
  },
  {
   "cell_type": "markdown",
   "id": "5b08feeb-dfd8-4740-ad73-19995f010924",
   "metadata": {},
   "source": [
    "Plotting X v Y"
   ]
  },
  {
   "cell_type": "code",
   "execution_count": 1,
   "id": "908e7627-4536-47a3-a304-83f810530c0e",
   "metadata": {},
   "outputs": [
    {
     "data": {
      "image/png": "[encoded data removed]",
      "text/plain": [
       "<Figure size 640x480 with 1 Axes>"
      ]
     },
     "metadata": {},
     "output_type": "display_data"
    }
   ],
   "source": [
    "import pandas as pd\n",
    "import matplotlib.pyplot as plt\n",
    "\n",
    "# Data\n",
    "X = [10.4, 10.8, 11.1, 10.2, 10.3, 10.2, 10.7, 10.5, 10.8, 11.2, 10.6, 11.4]\n",
    "Y = [7.4, 7.6, 7.9, 7.2, 7.4, 7.1, 7.4, 7.2, 7.8, 7.7, 7.8, 8.3]\n",
    "\n",
    "# Plot\n",
    "plt.scatter(X, Y, color=\"blue\")\n",
    "plt.xlabel(\"Wing length (cm)\")\n",
    "plt.ylabel(\"Tail length (cm)\")\n",
    "plt.title(\"Wing vs Tail length\")\n",
    "plt.show()"
   ]
  },
  {
   "cell_type": "markdown",
   "id": "b3ee529a-40f9-4846-9f0b-3e05872f6545",
   "metadata": {},
   "source": [
    "Calculating Rxy Ryx"
   ]
  },
  {
   "cell_type": "code",
   "execution_count": 2,
   "id": "d26fa4da-d961-46f0-bc52-c49ab4b48b9d",
   "metadata": {},
   "outputs": [
    {
     "name": "stdout",
     "output_type": "stream",
     "text": [
      "Manual calculation: r_xy = 0.870, r_yx = 0.870\n",
      "NumPy corrcoef matrix:\n",
      " [[1.         0.87035456]\n",
      " [0.87035456 1.        ]]\n"
     ]
    }
   ],
   "source": [
    "import numpy as np\n",
    "\n",
    "X = np.array(X)\n",
    "Y = np.array(Y)\n",
    "\n",
    "# Manual formula for Pearson's r\n",
    "x_mean, y_mean = np.mean(X), np.mean(Y)\n",
    "cov_xy = np.sum((X - x_mean) * (Y - y_mean)) / (len(X)-1)\n",
    "std_x, std_y = np.std(X, ddof=1), np.std(Y, ddof=1)\n",
    "r_xy = cov_xy / (std_x * std_y)\n",
    "\n",
    "# Symmetry: r_yx is the same\n",
    "r_yx = r_xy\n",
    "\n",
    "print(f\"Manual calculation: r_xy = {r_xy:.3f}, r_yx = {r_yx:.3f}\")\n",
    "\n",
    "# Using numpy corrcoef\n",
    "r_matrix = np.corrcoef(X, Y)\n",
    "print(\"NumPy corrcoef matrix:\\n\", r_matrix)\n"
   ]
  },
  {
   "cell_type": "markdown",
   "id": "320a5547-2f2c-47ee-ae39-a1db9c2c8b75",
   "metadata": {},
   "source": [
    "Standard Error & 95% CI"
   ]
  },
  {
   "cell_type": "code",
   "execution_count": 3,
   "id": "bc3826b0-a041-4f9b-929b-4826332b707f",
   "metadata": {},
   "outputs": [
    {
     "name": "stdout",
     "output_type": "stream",
     "text": [
      "Standard error of r = 0.1557\n",
      "95% CI for r = (0.592, 0.963)\n"
     ]
    }
   ],
   "source": [
    "from scipy import stats\n",
    "\n",
    "n = len(X)\n",
    "\n",
    "# Standard error of r\n",
    "se_r = np.sqrt((1 - r_xy**2) / (n - 2))\n",
    "print(f\"Standard error of r = {se_r:.4f}\")\n",
    "\n",
    "# 95% CI via Fisher z-transform\n",
    "z_r = np.arctanh(r_xy)  # Fisher transform\n",
    "se_z = 1 / np.sqrt(n - 3)\n",
    "z_crit = stats.norm.ppf(0.975)  # two-tailed 95%\n",
    "z_ci = [z_r - z_crit*se_z, z_r + z_crit*se_z]\n",
    "r_ci = [np.tanh(z) for z in z_ci]\n",
    "\n",
    "print(f\"95% CI for r = ({r_ci[0]:.3f}, {r_ci[1]:.3f})\")\n"
   ]
  },
  {
   "cell_type": "markdown",
   "id": "01a5bc96-dba0-4ad3-b75b-8e34a6a77231",
   "metadata": {},
   "source": [
    "Significance Testing for H"
   ]
  },
  {
   "cell_type": "code",
   "execution_count": 4,
   "id": "3b759dc4-1ee3-44cd-944a-a058cbc36e56",
   "metadata": {},
   "outputs": [
    {
     "name": "stdout",
     "output_type": "stream",
     "text": [
      "t statistic = 5.589, df = 10, p = 0.0002\n",
      "Reject H0: correlation is significant at p<0.05\n"
     ]
    }
   ],
   "source": [
    "dfree = n - 2\n",
    "t_stat = r_xy / se_r\n",
    "p_val_t = 2 * (1 - stats.t.cdf(abs(t_stat), df=dfree))\n",
    "\n",
    "print(f\"t statistic = {t_stat:.3f}, df = {dfree}, p = {p_val_t:.4f}\")\n",
    "\n",
    "if p_val_t < 0.05:\n",
    "    print(\"Reject H0: correlation is significant at p<0.05\")\n",
    "else:\n",
    "    print(\"Fail to reject H0: not significant at p<0.05\")\n"
   ]
  },
  {
   "cell_type": "markdown",
   "id": "a078ab04-5110-42e7-8acb-77efabc264b5",
   "metadata": {},
   "source": [
    "Comparing to Yale H0 of r = 0.75"
   ]
  },
  {
   "cell_type": "code",
   "execution_count": 5,
   "id": "ae34f129-e879-4791-a19c-1e34a7700d61",
   "metadata": {},
   "outputs": [
    {
     "name": "stdout",
     "output_type": "stream",
     "text": [
      "Test vs rho0=0.75: z = 1.085, p = 0.2780\n",
      "Fail to reject H0: cannot distinguish from 0.75\n"
     ]
    }
   ],
   "source": [
    "rho0 = 0.75\n",
    "z_rho0 = np.arctanh(rho0)\n",
    "\n",
    "# z statistic\n",
    "z_stat = (z_r - z_rho0) / se_z\n",
    "p_val_rho0 = 2 * (1 - stats.norm.cdf(abs(z_stat)))\n",
    "\n",
    "print(f\"Test vs rho0=0.75: z = {z_stat:.3f}, p = {p_val_rho0:.4f}\")\n",
    "\n",
    "if p_val_rho0 < 0.05:\n",
    "    print(\"Reject H0: our correlation is significantly different from 0.75\")\n",
    "else:\n",
    "    print(\"Fail to reject H0: cannot distinguish from 0.75\")\n"
   ]
  },
  {
   "cell_type": "markdown",
   "id": "299a8a17-f7a0-4145-8691-816baed135dd",
   "metadata": {},
   "source": [
    "Statistical power and sample size for r ≥ 0.5"
   ]
  },
  {
   "cell_type": "code",
   "execution_count": 6,
   "id": "81204064-584e-4bcd-8d85-8331f917d983",
   "metadata": {},
   "outputs": [
    {
     "ename": "TypeError",
     "evalue": "NormalIndPower.power() got an unexpected keyword argument 'nobs'. Did you mean 'nobs1'?",
     "output_type": "error",
     "traceback": [
      "\u001b[31m---------------------------------------------------------------------------\u001b[39m",
      "\u001b[31mTypeError\u001b[39m                                 Traceback (most recent call last)",
      "\u001b[36mCell\u001b[39m\u001b[36m \u001b[39m\u001b[32mIn[6]\u001b[39m\u001b[32m, line 12\u001b[39m\n\u001b[32m     10\u001b[39m fisher_se = \u001b[32m1\u001b[39m / np.sqrt(n - \u001b[32m3\u001b[39m)\n\u001b[32m     11\u001b[39m z_obs = fisher_z / fisher_se\n\u001b[32m---> \u001b[39m\u001b[32m12\u001b[39m power_current = \u001b[43manalysis\u001b[49m\u001b[43m.\u001b[49m\u001b[43mpower\u001b[49m\u001b[43m(\u001b[49m\u001b[43meffect_size\u001b[49m\u001b[43m=\u001b[49m\u001b[43mz_obs\u001b[49m\u001b[43m,\u001b[49m\u001b[43m \u001b[49m\u001b[43mnobs\u001b[49m\u001b[43m=\u001b[49m\u001b[43mn\u001b[49m\u001b[43m,\u001b[49m\u001b[43m \u001b[49m\u001b[43malpha\u001b[49m\u001b[43m=\u001b[49m\u001b[43malpha\u001b[49m\u001b[43m,\u001b[49m\u001b[43m \u001b[49m\u001b[43malternative\u001b[49m\u001b[43m=\u001b[49m\u001b[33;43m'\u001b[39;49m\u001b[33;43mtwo-sided\u001b[39;49m\u001b[33;43m'\u001b[39;49m\u001b[43m)\u001b[49m\n\u001b[32m     14\u001b[39m \u001b[38;5;28mprint\u001b[39m(\u001b[33mf\u001b[39m\u001b[33m\"\u001b[39m\u001b[33mStatistical power with n=\u001b[39m\u001b[38;5;132;01m{\u001b[39;00mn\u001b[38;5;132;01m}\u001b[39;00m\u001b[33m for r=0.5: \u001b[39m\u001b[38;5;132;01m{\u001b[39;00mpower_current\u001b[38;5;132;01m:\u001b[39;00m\u001b[33m.3f\u001b[39m\u001b[38;5;132;01m}\u001b[39;00m\u001b[33m\"\u001b[39m)\n\u001b[32m     16\u001b[39m \u001b[38;5;66;03m# Required sample size for 80% power\u001b[39;00m\n\u001b[32m     17\u001b[39m \u001b[38;5;66;03m# Use correlation_power function from statsmodels\u001b[39;00m\n",
      "\u001b[31mTypeError\u001b[39m: NormalIndPower.power() got an unexpected keyword argument 'nobs'. Did you mean 'nobs1'?"
     ]
    }
   ],
   "source": [
    "import statsmodels.stats.power as smp\n",
    "\n",
    "# Parameters\n",
    "alpha = 0.05\n",
    "effect_size = 0.5  # expected correlation\n",
    "\n",
    "# Current sample power\n",
    "analysis = smp.NormalIndPower()\n",
    "fisher_z = np.arctanh(effect_size)\n",
    "fisher_se = 1 / np.sqrt(n - 3)\n",
    "z_obs = fisher_z / fisher_se\n",
    "power_current = analysis.power(effect_size=z_obs, nobs=n, alpha=alpha, alternative='two-sided')\n",
    "\n",
    "print(f\"Statistical power with n={n} for r=0.5: {power_current:.3f}\")\n",
    "\n",
    "# Required sample size for 80% power\n",
    "# Use correlation_power function from statsmodels\n",
    "from statsmodels.stats.power import correlation_power\n",
    "\n",
    "needed_n = correlation_power(effect_size=effect_size, alpha=alpha, power=0.8, alternative='two-sided')\n",
    "print(f\"Required sample size for 80% power at r=0.5: {needed_n:.0f}\")\n"
   ]
  }
 ],
 "metadata": {
  "kernelspec": {
   "display_name": "Python 3 (ipykernel)",
   "language": "python",
   "name": "python3"
  },
  "language_info": {
   "codemirror_mode": {
    "name": "ipython",
    "version": 3
   },
   "file_extension": ".py",
   "mimetype": "text/x-python",
   "name": "python",
   "nbconvert_exporter": "python",
   "pygments_lexer": "ipython3",
   "version": "3.13.6"
  }
 },
 "nbformat": 4,
 "nbformat_minor": 5
}
